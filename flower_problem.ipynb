{
 "cells": [
  {
   "cell_type": "code",
   "execution_count": 1,
   "metadata": {},
   "outputs": [],
   "source": [
    "%matplotlib inline"
   ]
  },
  {
   "cell_type": "code",
   "execution_count": 2,
   "metadata": {},
   "outputs": [],
   "source": [
    "from matplotlib import pyplot as plt\n",
    "import numpy as np"
   ]
  },
  {
   "cell_type": "code",
   "execution_count": 104,
   "metadata": {},
   "outputs": [],
   "source": [
    "#each point is length with type \n",
    "data = [[3,1.5, 1], \n",
    "        [2, 1,  0],\n",
    "        [4,1.5, 1],\n",
    "        [3, 1,  0],\n",
    "        [3.5,.5,1],\n",
    "        [2, .5, 0],\n",
    "        [5.5,1, 1],\n",
    "        [1, 1,  0]\n",
    "        ]\n"
   ]
  },
  {
   "cell_type": "code",
   "execution_count": 60,
   "metadata": {},
   "outputs": [],
   "source": [
    "#network\n",
    "\n",
    "#   o    flower_type\n",
    "#  / \\   w1,w2,b\n",
    "# o  o   length , width\n"
   ]
  },
  {
   "cell_type": "code",
   "execution_count": 5,
   "metadata": {
    "scrolled": true
   },
   "outputs": [],
   "source": [
    "# array = []\n",
    "# for i in range(len(data)):\n",
    "#     z = w1 * data[i][0] + w2*data[i][1]+b\n",
    "#     sigmoid=1/(1+np.exp(-z))\n",
    "#     print(sigmoid)\n",
    "#     cost= (sigmoid - data[i][2])**2\n",
    "#     print(cost)\n",
    "#     array.append(sigmoid)"
   ]
  },
  {
   "cell_type": "code",
   "execution_count": 80,
   "metadata": {},
   "outputs": [],
   "source": [
    "def sigmoid(x):\n",
    "    return 1/(1 +np.exp(-x))\n",
    "def sigmoid_p(x):\n",
    "    return sigmoid(x) * (1- sigmoid(x))"
   ]
  },
  {
   "cell_type": "code",
   "execution_count": 7,
   "metadata": {},
   "outputs": [],
   "source": [
    "# T = np.linspace(-20,100,1000)\n",
    "# Y = sigmoid (T)\n",
    "# plt.plot(T,Y)"
   ]
  },
  {
   "cell_type": "code",
   "execution_count": 106,
   "metadata": {},
   "outputs": [
    {
     "data": {
      "image/png": "[encoded data removed]",
      "text/plain": [
       "<Figure size 432x288 with 1 Axes>"
      ]
     },
     "metadata": {
      "needs_background": "light"
     },
     "output_type": "display_data"
    }
   ],
   "source": [
    "# scatter plot  data \n",
    "plt.axis([0,6,0,6])\n",
    "plt.grid()\n",
    "for i in range (len(data)):\n",
    "    point = data[i]\n",
    "    color = 'r'\n",
    "    if point[2] == 0:\n",
    "        color = 'b'\n",
    "    plt.scatter(point[0],point[1], c=color)\n",
    "    \n",
    "    "
   ]
  },
  {
   "cell_type": "code",
   "execution_count": 105,
   "metadata": {},
   "outputs": [
    {
     "data": {
      "text/plain": [
       "[<matplotlib.lines.Line2D at 0x140ca1b80>]"
      ]
     },
     "execution_count": 105,
     "metadata": {},
     "output_type": "execute_result"
    },
    {
     "data": {
      "image/png": "[encoded data removed]",
      "text/plain": [
       "<Figure size 432x288 with 1 Axes>"
      ]
     },
     "metadata": {
      "needs_background": "light"
     },
     "output_type": "display_data"
    }
   ],
   "source": [
    "# training loop\n",
    "learning_rate = 0.2\n",
    "costs = []\n",
    "\n",
    "w1 = np.random.randn()\n",
    "w2 = np.random.randn()\n",
    "b = np.random.randn()\n",
    "for i in range(50000):\n",
    "    # we pick random points from our data\n",
    "    ri = np.random.randint(len(data))\n",
    "    point= data[ri]\n",
    "    # we calculate our prediction and we send this prediction to our sigmoid function to \n",
    "    #normalize range between o and 1\n",
    "    z = w1 * point[0] + w2 * point[1] + b\n",
    "    prediction = sigmoid(z)\n",
    "    #we get our actual target  \n",
    "    target = point[2]\n",
    "    #we calculate our cost \n",
    "    cost = np.square(prediction - target)\n",
    "    \n",
    "    dcost_pred =  (prediction-target) * 2\n",
    "    dpred_dz = sigmoid_p(z)\n",
    "    dz_dw1 = point[0]\n",
    "    dz_dw2 = point[1]\n",
    "    dz_b   = 1\n",
    "    \n",
    "    dcost_dz  = dcost_pred * dpred_dz\n",
    "    dcost_dw1 = dcost_dz * dz_dw1\n",
    "    dcost_dw2 = dcost_dz * dz_dw2\n",
    "    dcost_db  = dcost_dz * dz_b\n",
    "    #we calculate new weights \n",
    "    w1 = w1 - learning_rate * dcost_dw1\n",
    "    w2 = w2 - learning_rate * dcost_dw2\n",
    "    b  = b - learning_rate * dcost_db\n",
    "    if i %100 == 0 :\n",
    "     \n",
    "        costs.append(cost )\n",
    "\n",
    "         \n",
    "plt.plot(costs)"
   ]
  }
 ],
 "metadata": {
  "kernelspec": {
   "display_name": "Python 3",
   "language": "python",
   "name": "python3"
  },
  "language_info": {
   "codemirror_mode": {
    "name": "ipython",
    "version": 3
   },
   "file_extension": ".py",
   "mimetype": "text/x-python",
   "name": "python",
   "nbconvert_exporter": "python",
   "pygments_lexer": "ipython3",
   "version": "3.8.1"
  }
 },
 "nbformat": 4,
 "nbformat_minor": 4
}
